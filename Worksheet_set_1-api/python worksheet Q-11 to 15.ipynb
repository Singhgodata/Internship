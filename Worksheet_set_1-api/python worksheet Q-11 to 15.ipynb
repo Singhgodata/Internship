{
 "cells": [
  {
   "cell_type": "code",
   "execution_count": null,
   "id": "452cfdad",
   "metadata": {},
   "outputs": [],
   "source": [
    "PYTHON WORKSHEET\n",
    "\n",
    "Q11 to Q15 are programming questions."
   ]
  },
  {
   "cell_type": "code",
   "execution_count": null,
   "id": "01a8114c",
   "metadata": {},
   "outputs": [],
   "source": [
    "Q-11 Write a python program to find the factorial of a number."
   ]
  },
  {
   "cell_type": "code",
   "execution_count": 2,
   "id": "5ddd559f",
   "metadata": {},
   "outputs": [
    {
     "name": "stdout",
     "output_type": "stream",
     "text": [
      "Enter number=4\n",
      "factorial number= 24\n"
     ]
    }
   ],
   "source": [
    "i=int(input(\"Enter number=\"))\n",
    "fac=1\n",
    "while i>0:\n",
    "    fac=fac*i\n",
    "    i=i-1\n",
    "print(\"factorial number=\",fac)"
   ]
  },
  {
   "cell_type": "code",
   "execution_count": null,
   "id": "1488a8ca",
   "metadata": {},
   "outputs": [],
   "source": [
    "Q-12 Write a python program to find whether a number is prime or composite."
   ]
  },
  {
   "cell_type": "code",
   "execution_count": 3,
   "id": "e5cad5a0",
   "metadata": {},
   "outputs": [
    {
     "name": "stdout",
     "output_type": "stream",
     "text": [
      "Enter any number:6\n",
      "6 is a Composite Number\n"
     ]
    }
   ],
   "source": [
    "num=int(input(\"Enter any number:\"))\n",
    "if num> 1:\n",
    "    for i in range (2,num):\n",
    "        if (num % i)==0:\n",
    "            print(num, \"is a Composite Number\")\n",
    "            break\n",
    "    else:\n",
    "        print(num,\"is a Prime number\")"
   ]
  },
  {
   "cell_type": "code",
   "execution_count": null,
   "id": "ba289daa",
   "metadata": {},
   "outputs": [],
   "source": [
    "Q-13 Write a python program to check whether a given string is palindrome or not."
   ]
  },
  {
   "cell_type": "code",
   "execution_count": 4,
   "id": "b47c4122",
   "metadata": {},
   "outputs": [
    {
     "name": "stdout",
     "output_type": "stream",
     "text": [
      "Enter String:45\n",
      " Not  Pallidrome\n"
     ]
    }
   ],
   "source": [
    "a= input (\"Enter String:\")\n",
    "b=a[-1::-1]\n",
    "if (a==b):\n",
    "    print (\"Pallidrome\")\n",
    "else:\n",
    "    print (\" Not  Pallidrome\")\n"
   ]
  },
  {
   "cell_type": "code",
   "execution_count": null,
   "id": "c766666c",
   "metadata": {},
   "outputs": [],
   "source": [
    "Q-14 Write a Python program to get the third side of right-angled triangle from two given sides."
   ]
  },
  {
   "cell_type": "code",
   "execution_count": 5,
   "id": "883d760a",
   "metadata": {},
   "outputs": [
    {
     "name": "stdout",
     "output_type": "stream",
     "text": [
      "Input Sides of traingle:\n",
      "Enter First Side: 12\n",
      "Enter Second Side:34\n",
      "The length of Third side is 36.05551275463989\n"
     ]
    }
   ],
   "source": [
    "from numpy import sqrt\n",
    "print (\"Input Sides of traingle:\")\n",
    "a= float(input(\"Enter First Side: \"))\n",
    "b= float(input(\"Enter Second Side:\"))\n",
    "c= sqrt(a**2+b**2)\n",
    "print(\"The length of Third side is\",c)\n"
   ]
  },
  {
   "cell_type": "code",
   "execution_count": null,
   "id": "8f600590",
   "metadata": {},
   "outputs": [],
   "source": [
    "Q-15 Write a python program to print the frequency of each of the characters present in a given string"
   ]
  },
  {
   "cell_type": "code",
   "execution_count": 6,
   "id": "0b416832",
   "metadata": {},
   "outputs": [
    {
     "name": "stdout",
     "output_type": "stream",
     "text": [
      "Enter String :11\n",
      "{'1': 2}\n"
     ]
    }
   ],
   "source": [
    "str= input (\"Enter String :\")\n",
    "\n",
    "l=list(str)\n",
    "\n",
    "freq=[l.count(ele) for ele in l]\n",
    "d= dict(zip(l,freq))\n",
    "print(d)\n"
   ]
  }
 ],
 "metadata": {
  "kernelspec": {
   "display_name": "Python 3 (ipykernel)",
   "language": "python",
   "name": "python3"
  },
  "language_info": {
   "codemirror_mode": {
    "name": "ipython",
    "version": 3
   },
   "file_extension": ".py",
   "mimetype": "text/x-python",
   "name": "python",
   "nbconvert_exporter": "python",
   "pygments_lexer": "ipython3",
   "version": "3.11.5"
  }
 },
 "nbformat": 4,
 "nbformat_minor": 5
}
